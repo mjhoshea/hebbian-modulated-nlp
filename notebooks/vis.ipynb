{
 "cells": [
  {
   "cell_type": "code",
   "execution_count": 25,
   "id": "noticed-words",
   "metadata": {},
   "outputs": [],
   "source": [
    "import sys\n",
    "import os\n",
    "\n",
    "sys.path.insert(0, os.path.abspath('../src/models/anml'))\n",
    "sys.path.insert(1, os.path.abspath('../src/datasets/'))\n",
    "sys.path.insert(2, os.path.abspath('../src/models/'))"
   ]
  },
  {
   "cell_type": "code",
   "execution_count": 26,
   "id": "ceramic-forest",
   "metadata": {},
   "outputs": [],
   "source": [
    "from ANML import ANML"
   ]
  },
  {
   "cell_type": "code",
   "execution_count": null,
   "id": "optional-angola",
   "metadata": {},
   "outputs": [],
   "source": [
    "anml = ANML()"
   ]
  },
  {
   "cell_type": "code",
   "execution_count": null,
   "id": "ongoing-bandwidth",
   "metadata": {},
   "outputs": [],
   "source": []
  },
  {
   "cell_type": "code",
   "execution_count": null,
   "id": "exempt-ottawa",
   "metadata": {},
   "outputs": [],
   "source": []
  }
 ],
 "metadata": {
  "kernelspec": {
   "display_name": "Python 3",
   "language": "python",
   "name": "python3"
  },
  "language_info": {
   "codemirror_mode": {
    "name": "ipython",
    "version": 3
   },
   "file_extension": ".py",
   "mimetype": "text/x-python",
   "name": "python",
   "nbconvert_exporter": "python",
   "pygments_lexer": "ipython3",
   "version": "3.8.7"
  }
 },
 "nbformat": 4,
 "nbformat_minor": 5
}
